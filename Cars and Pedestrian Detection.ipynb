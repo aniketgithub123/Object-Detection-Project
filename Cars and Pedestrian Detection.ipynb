{
 "cells": [
  {
   "cell_type": "code",
   "execution_count": 1,
   "id": "5be96deb",
   "metadata": {},
   "outputs": [],
   "source": [
    "import numpy as np\n",
    "import cv2"
   ]
  },
  {
   "cell_type": "code",
   "execution_count": 2,
   "id": "c0058404",
   "metadata": {},
   "outputs": [
    {
     "name": "stdout",
     "output_type": "stream",
     "text": [
      "Code Completed\n"
     ]
    }
   ],
   "source": [
    "# get video footage\n",
    "video = cv2.VideoCapture('Pedestrian_vs_Car.mp4')\n",
    "\n",
    "# load some pre-trained data on car rear ends (Haar cascade algorithm)\n",
    "car_tracker = cv2.CascadeClassifier('cars.xml')\n",
    "pedestrian_tracker = cv2.CascadeClassifier('haarcascade_fullbody.xml')\n",
    "\n",
    "# Run forever until car stops or something\n",
    "while True:\n",
    "    \n",
    "    # read the current frame\n",
    "    read_successful, frame = video.read()\n",
    "\n",
    "    if not read_successful:\n",
    "        break\n",
    "\n",
    "    # convert to grayscale\n",
    "    grayscaled_frame = cv2.cvtColor(frame, cv2.COLOR_BGR2GRAY)\n",
    "\n",
    "    # detect cars\n",
    "    cars = car_tracker.detectMultiScale(grayscaled_frame)\n",
    "\n",
    "    # detect pedestrians\n",
    "    pedestrians = pedestrian_tracker.detectMultiScale(grayscaled_frame)\n",
    "    \n",
    "    # draw rectangles around the cars and add labels\n",
    "    for (x, y, w, h) in cars:\n",
    "        cv2.rectangle(frame, (x, y), (x+w, y+h), (225, 0, 0), 2)\n",
    "        cv2.putText(frame, 'Car', (x, y-10), cv2.FONT_HERSHEY_SIMPLEX, 0.9, (225, 0, 0), 2)\n",
    "        \n",
    "    # draw rectangles around the pedestrians and add labels\n",
    "    for (x, y, w, h) in pedestrians:\n",
    "        cv2.rectangle(frame, (x, y), (x+w, y+h), (0, 225, 225), 2)\n",
    "        cv2.putText(frame, 'Pedestrian', (x, y-10), cv2.FONT_HERSHEY_SIMPLEX, 0.9, (0, 225, 225), 2)\n",
    "\n",
    "    # display the image with the cars and pedestrians spotted\n",
    "    cv2.imshow('Car And Pedestrian Detector', frame)\n",
    "\n",
    "    # wait for a key press; if 'q' is pressed, exit the loop\n",
    "    if cv2.waitKey(1) & 0xFF == ord('q'):\n",
    "        break\n",
    "\n",
    "# release the video capture object and close all windows\n",
    "video.release()\n",
    "cv2.destroyAllWindows()\n",
    "\n",
    "# print code completed after the loop ends\n",
    "print(\"Code Completed\")\n"
   ]
  },
  {
   "cell_type": "code",
   "execution_count": null,
   "id": "da964192",
   "metadata": {},
   "outputs": [],
   "source": []
  }
 ],
 "metadata": {
  "kernelspec": {
   "display_name": "Python 3 (ipykernel)",
   "language": "python",
   "name": "python3"
  },
  "language_info": {
   "codemirror_mode": {
    "name": "ipython",
    "version": 3
   },
   "file_extension": ".py",
   "mimetype": "text/x-python",
   "name": "python",
   "nbconvert_exporter": "python",
   "pygments_lexer": "ipython3",
   "version": "3.10.9"
  }
 },
 "nbformat": 4,
 "nbformat_minor": 5
}
